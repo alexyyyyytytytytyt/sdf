{
 "cells": [
  {
   "cell_type": "code",
   "execution_count": 1,
   "id": "5c25097f",
   "metadata": {},
   "outputs": [],
   "source": [
    "import pymongo\n",
    "import pandas as pd\n",
    "from pymongo import MongoClient\n",
    "from bs4 import BeautifulSoup as bs\n",
    "import numpy as np"
   ]
  },
  {
   "cell_type": "code",
   "execution_count": 2,
   "id": "03ae5ced",
   "metadata": {},
   "outputs": [],
   "source": [
    "from splinter import Browser\n",
    "from bs4 import BeautifulSoup as bs\n",
    "import time\n",
    "from webdriver_manager.chrome import ChromeDriverManager"
   ]
  },
  {
   "cell_type": "code",
   "execution_count": 3,
   "id": "647c80a3",
   "metadata": {},
   "outputs": [
    {
     "name": "stderr",
     "output_type": "stream",
     "text": [
      "\n",
      "\n",
      "====== WebDriver manager ======\n",
      "Current google-chrome version is 100.0.4896\n",
      "Get LATEST chromedriver version for 100.0.4896 google-chrome\n",
      "Driver [/Users/Alexzli/.wdm/drivers/chromedriver/mac64/100.0.4896.60/chromedriver] found in cache\n"
     ]
    }
   ],
   "source": [
    "executable_path = {'executable_path': ChromeDriverManager().install()}\n",
    "browser = Browser('chrome', **executable_path, headless=False)\n",
    "\n",
    "url=\"https://redplanetscience.com/\"\n",
    "browser.visit(url)\n",
    "\n",
    "html = browser.html\n",
    "soup = bs(html, \"html.parser\")"
   ]
  },
  {
   "cell_type": "code",
   "execution_count": 4,
   "id": "798b4f20",
   "metadata": {},
   "outputs": [
    {
     "ename": "IndexError",
     "evalue": "list index out of range",
     "output_type": "error",
     "traceback": [
      "\u001b[0;31m---------------------------------------------------------------------------\u001b[0m",
      "\u001b[0;31mIndexError\u001b[0m                                Traceback (most recent call last)",
      "\u001b[0;32m/var/folders/lv/_vx_bsx91xdd_9b_rm7j76gm0000gn/T/ipykernel_88365/1013730395.py\u001b[0m in \u001b[0;36m<module>\u001b[0;34m\u001b[0m\n\u001b[0;32m----> 1\u001b[0;31m \u001b[0mprint\u001b[0m\u001b[0;34m(\u001b[0m\u001b[0;34m\"news_title = \"\u001b[0m \u001b[0;34m+\u001b[0m \u001b[0msoup\u001b[0m\u001b[0;34m.\u001b[0m\u001b[0mfind_all\u001b[0m\u001b[0;34m(\u001b[0m\u001b[0;34m\"div\"\u001b[0m\u001b[0;34m,\u001b[0m \u001b[0mclass_\u001b[0m\u001b[0;34m=\u001b[0m\u001b[0;34m\"content_title\"\u001b[0m\u001b[0;34m)\u001b[0m\u001b[0;34m[\u001b[0m\u001b[0;36m0\u001b[0m\u001b[0;34m]\u001b[0m\u001b[0;34m.\u001b[0m\u001b[0mtext\u001b[0m\u001b[0;34m)\u001b[0m\u001b[0;34m\u001b[0m\u001b[0;34m\u001b[0m\u001b[0m\n\u001b[0m\u001b[1;32m      2\u001b[0m \u001b[0mprint\u001b[0m\u001b[0;34m(\u001b[0m\u001b[0;34m\"news_p = \"\u001b[0m \u001b[0;34m+\u001b[0m \u001b[0msoup\u001b[0m\u001b[0;34m.\u001b[0m\u001b[0mfind_all\u001b[0m\u001b[0;34m(\u001b[0m\u001b[0;34m\"div\"\u001b[0m\u001b[0;34m,\u001b[0m \u001b[0mclass_\u001b[0m\u001b[0;34m=\u001b[0m\u001b[0;34m\"article_teaser_body\"\u001b[0m\u001b[0;34m)\u001b[0m\u001b[0;34m[\u001b[0m\u001b[0;36m0\u001b[0m\u001b[0;34m]\u001b[0m\u001b[0;34m.\u001b[0m\u001b[0mtext\u001b[0m\u001b[0;34m)\u001b[0m\u001b[0;34m\u001b[0m\u001b[0;34m\u001b[0m\u001b[0m\n",
      "\u001b[0;31mIndexError\u001b[0m: list index out of range"
     ]
    }
   ],
   "source": [
    "print(\"news_title = \" + soup.find_all(\"div\", class_=\"content_title\")[0].text)\n",
    "print(\"news_p = \" + soup.find_all(\"div\", class_=\"article_teaser_body\")[0].text)"
   ]
  },
  {
   "cell_type": "code",
   "execution_count": null,
   "id": "98b50142",
   "metadata": {},
   "outputs": [],
   "source": [
    "url = \"https://spaceimages-mars.com/\"\n",
    "browser.visit(url)\n",
    "\n",
    "html = browser.html\n",
    "soup2 = bs(html, \"html.parser\")"
   ]
  },
  {
   "cell_type": "code",
   "execution_count": null,
   "id": "be2b0e2d",
   "metadata": {},
   "outputs": [],
   "source": [
    "print(soup2.find_all('a', class_=\"showimg fancybox-thumbs\")[0]['href'])"
   ]
  },
  {
   "cell_type": "code",
   "execution_count": null,
   "id": "b51bdf5a",
   "metadata": {},
   "outputs": [],
   "source": [
    "\"https://spaceimages-mars.com/\"+soup2.find_all('a', class_=\"showimg fancybox-thumbs\")[0]['href']"
   ]
  },
  {
   "cell_type": "code",
   "execution_count": null,
   "id": "f64166c0",
   "metadata": {},
   "outputs": [],
   "source": [
    "url3 = https://galaxyfacts-mars.com/\n",
    "browser.visit(url3)\n",
    "\n",
    "html = browser.html\n",
    "soup3 = bs(html, \"html.parser\")"
   ]
  },
  {
   "cell_type": "code",
   "execution_count": null,
   "id": "093ed0f8",
   "metadata": {},
   "outputs": [],
   "source": [
    "html4_string = \"\"\"\n",
    "<div class=\"sidebar\">\n",
    "\t\t\t\t<h5>MARS PLANET PROFILE</h5>\n",
    "\t\t\t\t<table class=\"table table-striped\">\n",
    "\t\t\t\t  <tbody>\n",
    "\t\t\t\t    <tr>\n",
    "\t\t\t\t      <th scope=\"row\">Equatorial Diameter:</th>\n",
    "\t\t\t\t      <td>6,792 km</td>\n",
    "\t\t\t\t    </tr>\n",
    "\t\t\t\t    <tr>\n",
    "\t\t\t\t      <th scope=\"row\">Polar Diameter:</th>\n",
    "\t\t\t\t      <td>6,752 km</td>\n",
    "\t\t\t\t    </tr>\n",
    "\t\t\t\t    <tr>\n",
    "\t\t\t\t      <th scope=\"row\">Mass:</th>\n",
    "\t\t\t\t      <td>\t6.39 × 10^23 kg (0.11 Earths)</td>\n",
    "\t\t\t\t    </tr>\n",
    "\t\t\t\t    <tr>\n",
    "\t\t\t\t      <th scope=\"row\">Moons:</th>\n",
    "\t\t\t\t      <td>\t2 ( <span class=\"red\">Phobos </span> &amp; <span class=\"red\"> Deimos </span>)</td>\n",
    "\t\t\t\t    </tr>\n",
    "\t\t\t\t    <tr>\n",
    "\t\t\t\t      <th scope=\"row\">Orbit Distance:</th>\n",
    "\t\t\t\t      <td>\t227,943,824 km (1.38 AU)</td>\n",
    "\t\t\t\t    </tr>\n",
    "\t\t\t\t    <tr>\n",
    "\t\t\t\t      <th scope=\"row\">Orbit Period:</th>\n",
    "\t\t\t\t      <td>\t687 days (1.9 years)</td>\n",
    "\t\t\t\t    </tr>\n",
    "\t\t\t\t    <tr>\n",
    "\t\t\t\t      <th scope=\"row\">Surface Temperature:</th>\n",
    "\t\t\t\t      <td>\t-87 to -5 °C</td>\n",
    "\t\t\t\t    </tr>\n",
    "\t\t\t\t    <tr>\n",
    "\t\t\t\t      <th scope=\"row\">First Record:</th>\n",
    "\t\t\t\t      <td>\t2nd millennium BC</td>\n",
    "\t\t\t\t    </tr>\n",
    "\t\t\t\t    <tr>\n",
    "\t\t\t\t      <th scope=\"row\">Recorded By:</th>\n",
    "\t\t\t\t      <td>\tEgyptian astronomers</td>\n",
    "\t\t\t\t    </tr>\n",
    "\t\t\t\t  </tbody>\n",
    "\t\t\t\t</table>\n",
    "\n",
    "\n",
    "\t\t\t\t<h5 class=\"mt-5\">PLANETS</h5>\n",
    "\t\t\t\t<div class=\"col-md-12 mt-3\">\n",
    "\t\t\t\t\t<div class=\"row\">\n",
    "\t\t\t\t\t\t<div class=\"col-md-3\">\n",
    "\t\t\t\t\t\t\t<img src=\"https://space-facts.com/wp-content/uploads/mercury-50x50.png\" class=\"img-fluid mt-2\">\t\n",
    "\t\t\t\t\t\t</div>\n",
    "\t\t\t\t\t\t<div class=\"col-md-9\">\n",
    "\t\t\t\t\t\t\t<p class=\"mt-2\"><span class=\"red\">Mercury </span> </p>\n",
    "\t\t\t\t\t\t</div>\n",
    "\t\t\t\t\t</div>\n",
    "\t\t\t\t\t<div class=\"row\">\n",
    "\t\t\t\t\t\t<div class=\"col-md-3\">\n",
    "\t\t\t\t\t\t\t<img src=\"https://space-facts.com/wp-content/uploads/venus-50x50.png\" class=\"img-fluid mt-4\">\n",
    "\t\t\t\t\t\t</div>\n",
    "\t\t\t\t\t\t<div class=\"col-md-9\">\n",
    "\t\t\t\t\t\t\t<p class=\"mt-4\"><span class=\"red\">Venus </span> </p>\n",
    "\t\t\t\t\t\t</div>\n",
    "\t\t\t\t\t</div>\n",
    "\t\t\t\t\t<div class=\"row\">\n",
    "\t\t\t\t\t\t<div class=\"col-md-3\">\n",
    "\t\t\t\t\t\t\t<img src=\"https://space-facts.com/wp-content/uploads/earth-50x50.png\" class=\"img-fluid mt-4\">\n",
    "\t\t\t\t\t\t</div>\n",
    "\t\t\t\t\t\t<div class=\"col-md-9\">\n",
    "\t\t\t\t\t\t\t<p class=\"mt-4\"><span class=\"red\">Earth</span> </p>\n",
    "\t\t\t\t\t\t</div>\n",
    "\t\t\t\t\t</div>\n",
    "\t\t\t\t\t<div class=\"row\">\n",
    "\t\t\t\t\t\t<div class=\"col-md-3\">\n",
    "\t\t\t\t\t\t\t<img src=\"https://space-facts.com/wp-content/uploads/mars-50x50.jpg\" class=\"img-fluid mt-4\">\n",
    "\t\t\t\t\t\t</div>\n",
    "\t\t\t\t\t\t<div class=\"col-md-9\">\n",
    "\t\t\t\t\t\t\t<p class=\"mt-4\"><span class=\"red\">Mars </span> </p>\n",
    "\t\t\t\t\t\t</div>\n",
    "\t\t\t\t\t</div>\n",
    "\t\t\t\t\t<div class=\"row\">\n",
    "\t\t\t\t\t\t<div class=\"col-md-3\">\n",
    "\t\t\t\t\t\t\t<img src=\"https://space-facts.com/wp-content/uploads/jupiter-50x50.png\" class=\"img-fluid mt-4\">\n",
    "\t\t\t\t\t\t</div>\n",
    "\t\t\t\t\t\t<div class=\"col-md-9\">\n",
    "\t\t\t\t\t\t\t<p class=\"mt-4\"><span class=\"red\">Jupiter</span> </p>\n",
    "\t\t\t\t\t\t</div>\n",
    "\t\t\t\t\t</div>\n",
    "\t\t\t\t\t<div class=\"row\">\n",
    "\t\t\t\t\t\t<div class=\"col-md-3\">\n",
    "\t\t\t\t\t\t\t<img src=\"https://space-facts.com/wp-content/uploads/saturn-50x50.png\" class=\"img-fluid mt-4\">\n",
    "\t\t\t\t\t\t</div>\n",
    "\t\t\t\t\t\t<div class=\"col-md-9\">\n",
    "\t\t\t\t\t\t\t<p class=\"mt-4\"><span class=\"red\">Saturn</span> </p>\n",
    "\t\t\t\t\t\t</div>\n",
    "\t\t\t\t\t</div>\n",
    "\t\t\t\t\t<div class=\"row\">\n",
    "\t\t\t\t\t\t<div class=\"col-md-3\">\n",
    "\t\t\t\t\t\t\t<img src=\"https://space-facts.com/wp-content/uploads/uranus-50x50.jpg\" class=\"img-fluid mt-4\">\n",
    "\t\t\t\t\t\t</div>\n",
    "\t\t\t\t\t\t<div class=\"col-md-9\">\n",
    "\t\t\t\t\t\t\t<p class=\"mt-4\"><span class=\"red\">Saturn</span> </p>\n",
    "\t\t\t\t\t\t</div>\n",
    "\t\t\t\t\t</div>\n",
    "\t\t\t\t\t<div class=\"row\">\n",
    "\t\t\t\t\t\t<div class=\"col-md-3\">\n",
    "\t\t\t\t\t\t\t<img src=\"https://space-facts.com/wp-content/uploads/neptune-50x50.png\" class=\"img-fluid mt-4\">\n",
    "\t\t\t\t\t\t</div>\n",
    "\t\t\t\t\t\t<div class=\"col-md-9\">\n",
    "\t\t\t\t\t\t\t<p class=\"mt-4\"><span class=\"red\">Neptune</span> </p>\n",
    "\t\t\t\t\t\t</div>\n",
    "\t\t\t\t\t</div>\n",
    "\t\t\t\t</div>\n",
    "\t\t\t</div>\"\"\""
   ]
  },
  {
   "cell_type": "code",
   "execution_count": null,
   "id": "b19dd94f",
   "metadata": {},
   "outputs": [],
   "source": [
    "soup4 = bs(html4_string, 'html.parser')\n",
    "type(soup4)"
   ]
  },
  {
   "cell_type": "code",
   "execution_count": null,
   "id": "309d6224",
   "metadata": {},
   "outputs": [],
   "source": [
    "print(soup4.prettify())"
   ]
  },
  {
   "cell_type": "code",
   "execution_count": null,
   "id": "5e63ae9c",
   "metadata": {},
   "outputs": [],
   "source": [
    "soup4.find(\"table\", class_=\"table table-striped\")"
   ]
  },
  {
   "cell_type": "code",
   "execution_count": null,
   "id": "336e7aed",
   "metadata": {},
   "outputs": [],
   "source": [
    "html5_string = \"\"\"\n",
    "<div class=\"collapsible results\">\n",
    "                        <div class=\"item\">\n",
    "                           <a href=\"cerberus.html\" class=\"itemLink product-item\"><img class=\"thumb\" src=\"images/39d3266553462198bd2fbc4d18fbed17_cerberus_enhanced.tif_thumb.png\" alt=\"Cerberus Hemisphere Enhanced thumbnail\"></a>\n",
    "\n",
    "                           <div class=\"description\">\n",
    "                              <a href=\"cerberus.html\" class=\"itemLink product-item\">\n",
    "\n",
    "                                 <h3>Cerberus Hemisphere Enhanced</h3>\n",
    "                              </a>\n",
    "                              <span class=\"subtitle\" style=\"float:left\">image/tiff 21 MB</span><span class=\"pubDate\" style=\"float:right\"></span><br>\n",
    "                              <p>Mosaic of the Cerberus hemisphere of Mars projected into point perspective, a view similar to that which one would see from a spacecraft. This mosaic is composed of 104 Viking Orbiter images acquired…</p>\n",
    "                           </div>\n",
    "                           <!-- end description -->\n",
    "                        </div>\n",
    "                        <div class=\"item\">\n",
    "                           <a href=\"schiaparelli.html\" class=\"itemLink product-item\"><img class=\"thumb\" src=\"images/08eac6e22c07fb1fe72223a79252de20_schiaparelli_enhanced.tif_thumb.png\" alt=\"Schiaparelli Hemisphere Enhanced thumbnail\"></a>\n",
    "                           <div class=\"description\">\n",
    "                              <a href=\"schiaparelli.html\" class=\"itemLink product-item\">\n",
    "                                 <h3>Schiaparelli Hemisphere Enhanced</h3>\n",
    "                              </a>\n",
    "                              <span class=\"subtitle\" style=\"float:left\">image/tiff 35 MB</span><span class=\"pubDate\" style=\"float:right\"></span><br>\n",
    "                              <p>Mosaic of the Schiaparelli hemisphere of Mars projected into point perspective, a view similar to that which one would see from a spacecraft. The images were acquired in 1980 during early northern…</p>\n",
    "                           </div>\n",
    "                           <!-- end description -->\n",
    "                        </div>\n",
    "                        <div class=\"item\">\n",
    "                           <a href=\"syrtis.html\" class=\"itemLink product-item\"><img class=\"thumb\" src=\"images/55a0a1e2796313fdeafb17c35925e8ac_syrtis_major_enhanced.tif_thumb.png\" alt=\"Syrtis Major Hemisphere Enhanced thumbnail\"></a>\n",
    "                           <div class=\"description\">\n",
    "                              <a href=\"syrtis.html\" class=\"itemLink product-item\">\n",
    "                                 <h3>Syrtis Major Hemisphere Enhanced</h3>\n",
    "                              </a>\n",
    "                              <span class=\"subtitle\" style=\"float:left\">image/tiff 25 MB</span><span class=\"pubDate\" style=\"float:right\"></span><br>\n",
    "                              <p>Mosaic of the Syrtis Major hemisphere of Mars projected into point perspective, a view similar to that which one would see from a spacecraft. This mosaic is composed of about 100 red and violet…</p>\n",
    "                           </div>\n",
    "                           <!-- end description -->\n",
    "                        </div>\n",
    "                        <div class=\"item\">\n",
    "                           <a href=\"valles.html\" class=\"itemLink product-item\"><img class=\"thumb\" src=\"images/4e59980c1c57f89c680c0e1ccabbeff1_valles_marineris_enhanced.tif_thumb.png\" alt=\"Valles Marineris Hemisphere Enhanced thumbnail\"></a>\n",
    "                           <div class=\"description\">\n",
    "                              <a href=\"valles.html\" class=\"itemLink product-item\">\n",
    "                                 <h3>Valles Marineris Hemisphere Enhanced</h3>\n",
    "                              </a>\n",
    "                              <span class=\"subtitle\" style=\"float:left\">image/tiff 27 MB</span><span class=\"pubDate\" style=\"float:right\"></span><br>\n",
    "                              <p>Mosaic of the Valles Marineris hemisphere of Mars projected into point perspective, a view similar to that which one would see from a spacecraft. The distance is 2500 kilometers from the surface of…</p>\n",
    "                           </div>\n",
    "                           <!-- end description -->\n",
    "                        </div>\n",
    "                     </div>\"\"\""
   ]
  },
  {
   "cell_type": "code",
   "execution_count": null,
   "id": "83c5b1ae",
   "metadata": {},
   "outputs": [],
   "source": [
    "soup5 = bs(html5_string, 'html.parser')\n",
    "type(soup5)"
   ]
  },
  {
   "cell_type": "code",
   "execution_count": null,
   "id": "5efa97bf",
   "metadata": {},
   "outputs": [],
   "source": [
    "print(soup5.prettify())"
   ]
  },
  {
   "cell_type": "code",
   "execution_count": null,
   "id": "b0d66014",
   "metadata": {},
   "outputs": [],
   "source": [
    "soup5(\"h3\")[0].text"
   ]
  },
  {
   "cell_type": "code",
   "execution_count": null,
   "id": "0231dfa1",
   "metadata": {},
   "outputs": [],
   "source": [
    "soup5(\"h3\")[1].text"
   ]
  },
  {
   "cell_type": "code",
   "execution_count": null,
   "id": "f8104049",
   "metadata": {},
   "outputs": [],
   "source": [
    "soup5(\"h3\")[2].text"
   ]
  },
  {
   "cell_type": "code",
   "execution_count": null,
   "id": "a1c15391",
   "metadata": {},
   "outputs": [],
   "source": [
    "soup5(\"h3\")[3].text"
   ]
  },
  {
   "cell_type": "code",
   "execution_count": null,
   "id": "01635226",
   "metadata": {},
   "outputs": [],
   "source": [
    "html6 = \"\"\"\n",
    "<img style=\"-webkit-user-select: none; display: block; margin: auto; padding: env(safe-area-inset-top) env(safe-area-inset-right) env(safe-area-inset-bottom) env(safe-area-inset-left); cursor: zoom-in;\" src=\"https://marshemispheres.com/images/cerberus_enhanced.tif\" width=\"760\" height=\"760\">\"\"\""
   ]
  },
  {
   "cell_type": "code",
   "execution_count": null,
   "id": "97f573d3",
   "metadata": {},
   "outputs": [],
   "source": [
    "soup6 = bs(html6, 'html.parser')\n",
    "type(soup6)"
   ]
  },
  {
   "cell_type": "code",
   "execution_count": null,
   "id": "a7463ad3",
   "metadata": {
    "scrolled": true
   },
   "outputs": [],
   "source": [
    "print(soup6)"
   ]
  },
  {
   "cell_type": "code",
   "execution_count": null,
   "id": "2cdfa47d",
   "metadata": {},
   "outputs": [],
   "source": [
    "dig = soup6.find_all(\"img\")[0][\"src\"]\n",
    "dig"
   ]
  },
  {
   "cell_type": "code",
   "execution_count": null,
   "id": "db1bf64d",
   "metadata": {},
   "outputs": [],
   "source": [
    "html7 = \"\"\"<img style=\"-webkit-user-select: none; display: block; margin: auto; padding: env(safe-area-inset-top) env(safe-area-inset-right) env(safe-area-inset-bottom) env(safe-area-inset-left); cursor: zoom-in;\" src=\"https://marshemispheres.com/images/schiaparelli_enhanced.tif\" width=\"760\" height=\"760\">\"\"\""
   ]
  },
  {
   "cell_type": "code",
   "execution_count": null,
   "id": "2f251608",
   "metadata": {},
   "outputs": [],
   "source": [
    "soup7 = bs(html7, 'html.parser')\n",
    "type(soup7)"
   ]
  },
  {
   "cell_type": "code",
   "execution_count": null,
   "id": "2f40949b",
   "metadata": {},
   "outputs": [],
   "source": [
    "print(soup7)"
   ]
  },
  {
   "cell_type": "code",
   "execution_count": null,
   "id": "fbe41421",
   "metadata": {},
   "outputs": [],
   "source": [
    "soup7.find_all(\"img\")[0][\"src\"]"
   ]
  },
  {
   "cell_type": "code",
   "execution_count": null,
   "id": "c99e5c9c",
   "metadata": {},
   "outputs": [],
   "source": [
    "html8 = \"\"\"<img style=\"-webkit-user-select: none; display: block; margin: auto; padding: env(safe-area-inset-top) env(safe-area-inset-right) env(safe-area-inset-bottom) env(safe-area-inset-left); cursor: zoom-in;\" src=\"https://marshemispheres.com/images/syrtis_major_enhanced.tif\" width=\"760\" height=\"760\">\"\"\""
   ]
  },
  {
   "cell_type": "code",
   "execution_count": null,
   "id": "2d260223",
   "metadata": {},
   "outputs": [],
   "source": [
    "soup8 = bs(html8, 'html.parser')\n",
    "type(soup8)"
   ]
  },
  {
   "cell_type": "code",
   "execution_count": null,
   "id": "13ea59b9",
   "metadata": {},
   "outputs": [],
   "source": [
    "print(soup8)"
   ]
  },
  {
   "cell_type": "code",
   "execution_count": null,
   "id": "c6080c46",
   "metadata": {},
   "outputs": [],
   "source": [
    "soup8.find_all(\"img\")[0][\"src\"]"
   ]
  },
  {
   "cell_type": "code",
   "execution_count": null,
   "id": "e323be1b",
   "metadata": {},
   "outputs": [],
   "source": [
    "html9 = \"\"\"<img style=\"-webkit-user-select: none; display: block; margin: auto; padding: env(safe-area-inset-top) env(safe-area-inset-right) env(safe-area-inset-bottom) env(safe-area-inset-left); cursor: zoom-out;\" src=\"https://marshemispheres.com/images/valles_marineris_enhanced.tif\" width=\"4798\" height=\"4798\">\"\"\""
   ]
  },
  {
   "cell_type": "code",
   "execution_count": null,
   "id": "daa47b1d",
   "metadata": {},
   "outputs": [],
   "source": [
    "soup9 = bs(html9, 'html.parser')\n",
    "type(soup9)"
   ]
  },
  {
   "cell_type": "code",
   "execution_count": null,
   "id": "2eb065ff",
   "metadata": {},
   "outputs": [],
   "source": [
    "print(soup9)"
   ]
  },
  {
   "cell_type": "code",
   "execution_count": null,
   "id": "f40261ab",
   "metadata": {},
   "outputs": [],
   "source": [
    "soup9.find_all(\"img\")[0][\"src\"]"
   ]
  },
  {
   "cell_type": "code",
   "execution_count": null,
   "id": "b8df54ef",
   "metadata": {},
   "outputs": [],
   "source": [
    "a = [\"Title\",  soup5(\"h3\")[0].text, \"Img_url\", soup6.find_all(\"img\")[0][\"src\"]]\n",
    "a"
   ]
  },
  {
   "cell_type": "code",
   "execution_count": null,
   "id": "9fa4652c",
   "metadata": {},
   "outputs": [],
   "source": [
    "b = ' :'.join(str(a).split(','))\n",
    "b"
   ]
  },
  {
   "cell_type": "code",
   "execution_count": null,
   "id": "3e83578a",
   "metadata": {},
   "outputs": [],
   "source": [
    "b = '{'.join(str(b).split('['))\n",
    "b"
   ]
  },
  {
   "cell_type": "code",
   "execution_count": null,
   "id": "f15918ca",
   "metadata": {},
   "outputs": [],
   "source": [
    "b = '}'.join(str(b).split(']'))\n",
    "b"
   ]
  },
  {
   "cell_type": "code",
   "execution_count": null,
   "id": "8212ced9",
   "metadata": {},
   "outputs": [],
   "source": [
    "c  = [\"title\",  soup5(\"h3\")[1].text, \"img_url\", soup7.find_all(\"img\")[0][\"src\"]]\n",
    "c"
   ]
  },
  {
   "cell_type": "code",
   "execution_count": null,
   "id": "61787c0b",
   "metadata": {},
   "outputs": [],
   "source": [
    "d = ' :'.join(str(c).split(','))\n",
    "d"
   ]
  },
  {
   "cell_type": "code",
   "execution_count": null,
   "id": "8886f42c",
   "metadata": {},
   "outputs": [],
   "source": [
    "d = '{'.join(str(d).split('['))\n",
    "d"
   ]
  },
  {
   "cell_type": "code",
   "execution_count": null,
   "id": "3e73b90e",
   "metadata": {},
   "outputs": [],
   "source": [
    "d = '}'.join(str(d).split(']'))\n",
    "d"
   ]
  },
  {
   "cell_type": "code",
   "execution_count": null,
   "id": "c7019817",
   "metadata": {},
   "outputs": [],
   "source": [
    "e = [\"title\",  soup5(\"h3\")[2].text, \"img_url\", soup8.find_all(\"img\")[0][\"src\"]]\n",
    "e"
   ]
  },
  {
   "cell_type": "code",
   "execution_count": null,
   "id": "fc84d1d2",
   "metadata": {},
   "outputs": [],
   "source": [
    "f = ' :'.join(str(e).split(','))\n",
    "f"
   ]
  },
  {
   "cell_type": "code",
   "execution_count": null,
   "id": "b0500735",
   "metadata": {},
   "outputs": [],
   "source": [
    "f = '{'.join(str(f).split('['))\n",
    "f"
   ]
  },
  {
   "cell_type": "code",
   "execution_count": null,
   "id": "d79925f0",
   "metadata": {},
   "outputs": [],
   "source": [
    "f = '}'.join(str(f).split(']'))\n",
    "f"
   ]
  },
  {
   "cell_type": "code",
   "execution_count": null,
   "id": "a3d17f60",
   "metadata": {},
   "outputs": [],
   "source": [
    "g = [\"title\",  soup5(\"h3\")[3].text, \"img_url\", soup9.find_all(\"img\")[0][\"src\"]]\n",
    "g"
   ]
  },
  {
   "cell_type": "code",
   "execution_count": null,
   "id": "e363f00d",
   "metadata": {},
   "outputs": [],
   "source": [
    "h = ' :'.join(str(g).split(','))\n",
    "h"
   ]
  },
  {
   "cell_type": "code",
   "execution_count": null,
   "id": "2bb9209a",
   "metadata": {},
   "outputs": [],
   "source": [
    "h = '{'.join(str(h).split('['))\n",
    "h"
   ]
  },
  {
   "cell_type": "code",
   "execution_count": null,
   "id": "f7afcc92",
   "metadata": {},
   "outputs": [],
   "source": [
    "h = '}'.join(str(h).split(']'))\n",
    "h"
   ]
  },
  {
   "cell_type": "code",
   "execution_count": null,
   "id": "59018829",
   "metadata": {},
   "outputs": [],
   "source": [
    "df = []\n",
    "df.extend([b, d, f, h])"
   ]
  },
  {
   "cell_type": "code",
   "execution_count": null,
   "id": "400e461f",
   "metadata": {},
   "outputs": [],
   "source": [
    "df"
   ]
  },
  {
   "cell_type": "code",
   "execution_count": null,
   "id": "a511f970",
   "metadata": {},
   "outputs": [],
   "source": [
    "df = ''.join(str(df).split('\"'))\n",
    "print(df)\n"
   ]
  },
  {
   "cell_type": "code",
   "execution_count": null,
   "id": "7875114a",
   "metadata": {},
   "outputs": [],
   "source": [
    "df = '\\n'.join(str(df).split(','))\n",
    "print(df)"
   ]
  },
  {
   "cell_type": "code",
   "execution_count": null,
   "id": "058e8c31",
   "metadata": {},
   "outputs": [],
   "source": [
    "print(\"hemisphere_image_urls = \" + df)"
   ]
  }
 ],
 "metadata": {
  "kernelspec": {
   "display_name": "Python 3 (ipykernel)",
   "language": "python",
   "name": "python3"
  },
  "language_info": {
   "codemirror_mode": {
    "name": "ipython",
    "version": 3
   },
   "file_extension": ".py",
   "mimetype": "text/x-python",
   "name": "python",
   "nbconvert_exporter": "python",
   "pygments_lexer": "ipython3",
   "version": "3.9.7"
  }
 },
 "nbformat": 4,
 "nbformat_minor": 5
}
