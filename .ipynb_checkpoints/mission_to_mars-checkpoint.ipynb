{
 "cells": [
  {
   "cell_type": "code",
   "execution_count": 1,
   "id": "5c25097f",
   "metadata": {},
   "outputs": [],
   "source": [
    "import pymongo\n",
    "import pandas as pd\n",
    "from pymongo import MongoClient\n",
    "from bs4 import BeautifulSoup as bs\n",
    "import numpy as np"
   ]
  },
  {
   "cell_type": "code",
   "execution_count": 1,
   "id": "03ae5ced",
   "metadata": {},
   "outputs": [],
   "source": [
    "from splinter import Browser\n",
    "from bs4 import BeautifulSoup as bs\n",
    "import time\n",
    "from webdriver_manager.chrome import ChromeDriverManager"
   ]
  },
  {
   "cell_type": "code",
   "execution_count": 29,
   "id": "647c80a3",
   "metadata": {},
   "outputs": [
    {
     "name": "stderr",
     "output_type": "stream",
     "text": [
      "\n",
      "\n",
      "====== WebDriver manager ======\n",
      "Current google-chrome version is 100.0.4896\n",
      "Get LATEST chromedriver version for 100.0.4896 google-chrome\n",
      "Driver [/Users/Alexzli/.wdm/drivers/chromedriver/mac64/100.0.4896.60/chromedriver] found in cache\n"
     ]
    }
   ],
   "source": [
    "executable_path = {'executable_path': ChromeDriverManager().install()}\n",
    "browser = Browser('chrome', **executable_path, headless=False)\n",
    "\n",
    "url=\"https://redplanetscience.com/\"\n",
    "browser.visit(url)\n",
    "\n",
    "html = browser.html\n",
    "soup = bs(html, \"html.parser\")"
   ]
  },
  {
   "cell_type": "code",
   "execution_count": 33,
   "id": "798b4f20",
   "metadata": {},
   "outputs": [
    {
     "name": "stdout",
     "output_type": "stream",
     "text": [
      "news_title = NASA's Curiosity Rover Finds an Ancient Oasis on Mars\n",
      "news_p = New evidence suggests salty, shallow ponds once dotted a Martian crater — a sign of the planet's drying climate.\n"
     ]
    }
   ],
   "source": [
    "print(\"news_title = \" + soup.find_all(\"div\", class_=\"content_title\")[0].text)\n",
    "print(\"news_p = \" + soup.find_all(\"div\", class_=\"article_teaser_body\")[0].text)"
   ]
  },
  {
   "cell_type": "code",
   "execution_count": 38,
   "id": "98b50142",
   "metadata": {},
   "outputs": [],
   "source": [
    "url = \"https://spaceimages-mars.com/\"\n",
    "browser.visit(url)\n",
    "\n",
    "html = browser.html\n",
    "soup2 = bs(html, \"html.parser\")"
   ]
  },
  {
   "cell_type": "code",
   "execution_count": 39,
   "id": "be2b0e2d",
   "metadata": {},
   "outputs": [
    {
     "name": "stdout",
     "output_type": "stream",
     "text": [
      "image/featured/mars3.jpg\n"
     ]
    }
   ],
   "source": [
    "print(soup2.find_all('a', class_=\"showimg fancybox-thumbs\")[0]['href'])"
   ]
  },
  {
   "cell_type": "code",
   "execution_count": 40,
   "id": "b51bdf5a",
   "metadata": {},
   "outputs": [
    {
     "name": "stdout",
     "output_type": "stream",
     "text": [
      "https://spaceimages-mars.com/image/featured/mars3.jpg\n"
     ]
    }
   ],
   "source": [
    "print(\"https://spaceimages-mars.com/\"+soup2.find_all('a', class_=\"showimg fancybox-thumbs\")[0]['href'])"
   ]
  },
  {
   "cell_type": "code",
   "execution_count": 16,
   "id": "093ed0f8",
   "metadata": {},
   "outputs": [],
   "source": [
    "html4_string = \"\"\"\n",
    "<div class=\"sidebar\">\n",
    "\t\t\t\t<h5>MARS PLANET PROFILE</h5>\n",
    "\t\t\t\t<table class=\"table table-striped\">\n",
    "\t\t\t\t  <tbody>\n",
    "\t\t\t\t    <tr>\n",
    "\t\t\t\t      <th scope=\"row\">Equatorial Diameter:</th>\n",
    "\t\t\t\t      <td>6,792 km</td>\n",
    "\t\t\t\t    </tr>\n",
    "\t\t\t\t    <tr>\n",
    "\t\t\t\t      <th scope=\"row\">Polar Diameter:</th>\n",
    "\t\t\t\t      <td>6,752 km</td>\n",
    "\t\t\t\t    </tr>\n",
    "\t\t\t\t    <tr>\n",
    "\t\t\t\t      <th scope=\"row\">Mass:</th>\n",
    "\t\t\t\t      <td>\t6.39 × 10^23 kg (0.11 Earths)</td>\n",
    "\t\t\t\t    </tr>\n",
    "\t\t\t\t    <tr>\n",
    "\t\t\t\t      <th scope=\"row\">Moons:</th>\n",
    "\t\t\t\t      <td>\t2 ( <span class=\"red\">Phobos </span> &amp; <span class=\"red\"> Deimos </span>)</td>\n",
    "\t\t\t\t    </tr>\n",
    "\t\t\t\t    <tr>\n",
    "\t\t\t\t      <th scope=\"row\">Orbit Distance:</th>\n",
    "\t\t\t\t      <td>\t227,943,824 km (1.38 AU)</td>\n",
    "\t\t\t\t    </tr>\n",
    "\t\t\t\t    <tr>\n",
    "\t\t\t\t      <th scope=\"row\">Orbit Period:</th>\n",
    "\t\t\t\t      <td>\t687 days (1.9 years)</td>\n",
    "\t\t\t\t    </tr>\n",
    "\t\t\t\t    <tr>\n",
    "\t\t\t\t      <th scope=\"row\">Surface Temperature:</th>\n",
    "\t\t\t\t      <td>\t-87 to -5 °C</td>\n",
    "\t\t\t\t    </tr>\n",
    "\t\t\t\t    <tr>\n",
    "\t\t\t\t      <th scope=\"row\">First Record:</th>\n",
    "\t\t\t\t      <td>\t2nd millennium BC</td>\n",
    "\t\t\t\t    </tr>\n",
    "\t\t\t\t    <tr>\n",
    "\t\t\t\t      <th scope=\"row\">Recorded By:</th>\n",
    "\t\t\t\t      <td>\tEgyptian astronomers</td>\n",
    "\t\t\t\t    </tr>\n",
    "\t\t\t\t  </tbody>\n",
    "\t\t\t\t</table>\n",
    "\n",
    "\n",
    "\t\t\t\t<h5 class=\"mt-5\">PLANETS</h5>\n",
    "\t\t\t\t<div class=\"col-md-12 mt-3\">\n",
    "\t\t\t\t\t<div class=\"row\">\n",
    "\t\t\t\t\t\t<div class=\"col-md-3\">\n",
    "\t\t\t\t\t\t\t<img src=\"https://space-facts.com/wp-content/uploads/mercury-50x50.png\" class=\"img-fluid mt-2\">\t\n",
    "\t\t\t\t\t\t</div>\n",
    "\t\t\t\t\t\t<div class=\"col-md-9\">\n",
    "\t\t\t\t\t\t\t<p class=\"mt-2\"><span class=\"red\">Mercury </span> </p>\n",
    "\t\t\t\t\t\t</div>\n",
    "\t\t\t\t\t</div>\n",
    "\t\t\t\t\t<div class=\"row\">\n",
    "\t\t\t\t\t\t<div class=\"col-md-3\">\n",
    "\t\t\t\t\t\t\t<img src=\"https://space-facts.com/wp-content/uploads/venus-50x50.png\" class=\"img-fluid mt-4\">\n",
    "\t\t\t\t\t\t</div>\n",
    "\t\t\t\t\t\t<div class=\"col-md-9\">\n",
    "\t\t\t\t\t\t\t<p class=\"mt-4\"><span class=\"red\">Venus </span> </p>\n",
    "\t\t\t\t\t\t</div>\n",
    "\t\t\t\t\t</div>\n",
    "\t\t\t\t\t<div class=\"row\">\n",
    "\t\t\t\t\t\t<div class=\"col-md-3\">\n",
    "\t\t\t\t\t\t\t<img src=\"https://space-facts.com/wp-content/uploads/earth-50x50.png\" class=\"img-fluid mt-4\">\n",
    "\t\t\t\t\t\t</div>\n",
    "\t\t\t\t\t\t<div class=\"col-md-9\">\n",
    "\t\t\t\t\t\t\t<p class=\"mt-4\"><span class=\"red\">Earth</span> </p>\n",
    "\t\t\t\t\t\t</div>\n",
    "\t\t\t\t\t</div>\n",
    "\t\t\t\t\t<div class=\"row\">\n",
    "\t\t\t\t\t\t<div class=\"col-md-3\">\n",
    "\t\t\t\t\t\t\t<img src=\"https://space-facts.com/wp-content/uploads/mars-50x50.jpg\" class=\"img-fluid mt-4\">\n",
    "\t\t\t\t\t\t</div>\n",
    "\t\t\t\t\t\t<div class=\"col-md-9\">\n",
    "\t\t\t\t\t\t\t<p class=\"mt-4\"><span class=\"red\">Mars </span> </p>\n",
    "\t\t\t\t\t\t</div>\n",
    "\t\t\t\t\t</div>\n",
    "\t\t\t\t\t<div class=\"row\">\n",
    "\t\t\t\t\t\t<div class=\"col-md-3\">\n",
    "\t\t\t\t\t\t\t<img src=\"https://space-facts.com/wp-content/uploads/jupiter-50x50.png\" class=\"img-fluid mt-4\">\n",
    "\t\t\t\t\t\t</div>\n",
    "\t\t\t\t\t\t<div class=\"col-md-9\">\n",
    "\t\t\t\t\t\t\t<p class=\"mt-4\"><span class=\"red\">Jupiter</span> </p>\n",
    "\t\t\t\t\t\t</div>\n",
    "\t\t\t\t\t</div>\n",
    "\t\t\t\t\t<div class=\"row\">\n",
    "\t\t\t\t\t\t<div class=\"col-md-3\">\n",
    "\t\t\t\t\t\t\t<img src=\"https://space-facts.com/wp-content/uploads/saturn-50x50.png\" class=\"img-fluid mt-4\">\n",
    "\t\t\t\t\t\t</div>\n",
    "\t\t\t\t\t\t<div class=\"col-md-9\">\n",
    "\t\t\t\t\t\t\t<p class=\"mt-4\"><span class=\"red\">Saturn</span> </p>\n",
    "\t\t\t\t\t\t</div>\n",
    "\t\t\t\t\t</div>\n",
    "\t\t\t\t\t<div class=\"row\">\n",
    "\t\t\t\t\t\t<div class=\"col-md-3\">\n",
    "\t\t\t\t\t\t\t<img src=\"https://space-facts.com/wp-content/uploads/uranus-50x50.jpg\" class=\"img-fluid mt-4\">\n",
    "\t\t\t\t\t\t</div>\n",
    "\t\t\t\t\t\t<div class=\"col-md-9\">\n",
    "\t\t\t\t\t\t\t<p class=\"mt-4\"><span class=\"red\">Saturn</span> </p>\n",
    "\t\t\t\t\t\t</div>\n",
    "\t\t\t\t\t</div>\n",
    "\t\t\t\t\t<div class=\"row\">\n",
    "\t\t\t\t\t\t<div class=\"col-md-3\">\n",
    "\t\t\t\t\t\t\t<img src=\"https://space-facts.com/wp-content/uploads/neptune-50x50.png\" class=\"img-fluid mt-4\">\n",
    "\t\t\t\t\t\t</div>\n",
    "\t\t\t\t\t\t<div class=\"col-md-9\">\n",
    "\t\t\t\t\t\t\t<p class=\"mt-4\"><span class=\"red\">Neptune</span> </p>\n",
    "\t\t\t\t\t\t</div>\n",
    "\t\t\t\t\t</div>\n",
    "\t\t\t\t</div>\n",
    "\t\t\t</div>\"\"\""
   ]
  },
  {
   "cell_type": "code",
   "execution_count": 17,
   "id": "b19dd94f",
   "metadata": {},
   "outputs": [
    {
     "data": {
      "text/plain": [
       "bs4.BeautifulSoup"
      ]
     },
     "execution_count": 17,
     "metadata": {},
     "output_type": "execute_result"
    }
   ],
   "source": [
    "soup4 = bs(html4_string, 'html.parser')\n",
    "type(soup4)"
   ]
  },
  {
   "cell_type": "code",
   "execution_count": 18,
   "id": "309d6224",
   "metadata": {},
   "outputs": [
    {
     "name": "stdout",
     "output_type": "stream",
     "text": [
      "<div class=\"sidebar\">\n",
      " <h5>\n",
      "  MARS PLANET PROFILE\n",
      " </h5>\n",
      " <table class=\"table table-striped\">\n",
      "  <tbody>\n",
      "   <tr>\n",
      "    <th scope=\"row\">\n",
      "     Equatorial Diameter:\n",
      "    </th>\n",
      "    <td>\n",
      "     6,792 km\n",
      "    </td>\n",
      "   </tr>\n",
      "   <tr>\n",
      "    <th scope=\"row\">\n",
      "     Polar Diameter:\n",
      "    </th>\n",
      "    <td>\n",
      "     6,752 km\n",
      "    </td>\n",
      "   </tr>\n",
      "   <tr>\n",
      "    <th scope=\"row\">\n",
      "     Mass:\n",
      "    </th>\n",
      "    <td>\n",
      "     6.39 × 10^23 kg (0.11 Earths)\n",
      "    </td>\n",
      "   </tr>\n",
      "   <tr>\n",
      "    <th scope=\"row\">\n",
      "     Moons:\n",
      "    </th>\n",
      "    <td>\n",
      "     2 (\n",
      "     <span class=\"red\">\n",
      "      Phobos\n",
      "     </span>\n",
      "     &amp;\n",
      "     <span class=\"red\">\n",
      "      Deimos\n",
      "     </span>\n",
      "     )\n",
      "    </td>\n",
      "   </tr>\n",
      "   <tr>\n",
      "    <th scope=\"row\">\n",
      "     Orbit Distance:\n",
      "    </th>\n",
      "    <td>\n",
      "     227,943,824 km (1.38 AU)\n",
      "    </td>\n",
      "   </tr>\n",
      "   <tr>\n",
      "    <th scope=\"row\">\n",
      "     Orbit Period:\n",
      "    </th>\n",
      "    <td>\n",
      "     687 days (1.9 years)\n",
      "    </td>\n",
      "   </tr>\n",
      "   <tr>\n",
      "    <th scope=\"row\">\n",
      "     Surface Temperature:\n",
      "    </th>\n",
      "    <td>\n",
      "     -87 to -5 °C\n",
      "    </td>\n",
      "   </tr>\n",
      "   <tr>\n",
      "    <th scope=\"row\">\n",
      "     First Record:\n",
      "    </th>\n",
      "    <td>\n",
      "     2nd millennium BC\n",
      "    </td>\n",
      "   </tr>\n",
      "   <tr>\n",
      "    <th scope=\"row\">\n",
      "     Recorded By:\n",
      "    </th>\n",
      "    <td>\n",
      "     Egyptian astronomers\n",
      "    </td>\n",
      "   </tr>\n",
      "  </tbody>\n",
      " </table>\n",
      " <h5 class=\"mt-5\">\n",
      "  PLANETS\n",
      " </h5>\n",
      " <div class=\"col-md-12 mt-3\">\n",
      "  <div class=\"row\">\n",
      "   <div class=\"col-md-3\">\n",
      "    <img class=\"img-fluid mt-2\" src=\"https://space-facts.com/wp-content/uploads/mercury-50x50.png\"/>\n",
      "   </div>\n",
      "   <div class=\"col-md-9\">\n",
      "    <p class=\"mt-2\">\n",
      "     <span class=\"red\">\n",
      "      Mercury\n",
      "     </span>\n",
      "    </p>\n",
      "   </div>\n",
      "  </div>\n",
      "  <div class=\"row\">\n",
      "   <div class=\"col-md-3\">\n",
      "    <img class=\"img-fluid mt-4\" src=\"https://space-facts.com/wp-content/uploads/venus-50x50.png\"/>\n",
      "   </div>\n",
      "   <div class=\"col-md-9\">\n",
      "    <p class=\"mt-4\">\n",
      "     <span class=\"red\">\n",
      "      Venus\n",
      "     </span>\n",
      "    </p>\n",
      "   </div>\n",
      "  </div>\n",
      "  <div class=\"row\">\n",
      "   <div class=\"col-md-3\">\n",
      "    <img class=\"img-fluid mt-4\" src=\"https://space-facts.com/wp-content/uploads/earth-50x50.png\"/>\n",
      "   </div>\n",
      "   <div class=\"col-md-9\">\n",
      "    <p class=\"mt-4\">\n",
      "     <span class=\"red\">\n",
      "      Earth\n",
      "     </span>\n",
      "    </p>\n",
      "   </div>\n",
      "  </div>\n",
      "  <div class=\"row\">\n",
      "   <div class=\"col-md-3\">\n",
      "    <img class=\"img-fluid mt-4\" src=\"https://space-facts.com/wp-content/uploads/mars-50x50.jpg\"/>\n",
      "   </div>\n",
      "   <div class=\"col-md-9\">\n",
      "    <p class=\"mt-4\">\n",
      "     <span class=\"red\">\n",
      "      Mars\n",
      "     </span>\n",
      "    </p>\n",
      "   </div>\n",
      "  </div>\n",
      "  <div class=\"row\">\n",
      "   <div class=\"col-md-3\">\n",
      "    <img class=\"img-fluid mt-4\" src=\"https://space-facts.com/wp-content/uploads/jupiter-50x50.png\"/>\n",
      "   </div>\n",
      "   <div class=\"col-md-9\">\n",
      "    <p class=\"mt-4\">\n",
      "     <span class=\"red\">\n",
      "      Jupiter\n",
      "     </span>\n",
      "    </p>\n",
      "   </div>\n",
      "  </div>\n",
      "  <div class=\"row\">\n",
      "   <div class=\"col-md-3\">\n",
      "    <img class=\"img-fluid mt-4\" src=\"https://space-facts.com/wp-content/uploads/saturn-50x50.png\"/>\n",
      "   </div>\n",
      "   <div class=\"col-md-9\">\n",
      "    <p class=\"mt-4\">\n",
      "     <span class=\"red\">\n",
      "      Saturn\n",
      "     </span>\n",
      "    </p>\n",
      "   </div>\n",
      "  </div>\n",
      "  <div class=\"row\">\n",
      "   <div class=\"col-md-3\">\n",
      "    <img class=\"img-fluid mt-4\" src=\"https://space-facts.com/wp-content/uploads/uranus-50x50.jpg\"/>\n",
      "   </div>\n",
      "   <div class=\"col-md-9\">\n",
      "    <p class=\"mt-4\">\n",
      "     <span class=\"red\">\n",
      "      Saturn\n",
      "     </span>\n",
      "    </p>\n",
      "   </div>\n",
      "  </div>\n",
      "  <div class=\"row\">\n",
      "   <div class=\"col-md-3\">\n",
      "    <img class=\"img-fluid mt-4\" src=\"https://space-facts.com/wp-content/uploads/neptune-50x50.png\"/>\n",
      "   </div>\n",
      "   <div class=\"col-md-9\">\n",
      "    <p class=\"mt-4\">\n",
      "     <span class=\"red\">\n",
      "      Neptune\n",
      "     </span>\n",
      "    </p>\n",
      "   </div>\n",
      "  </div>\n",
      " </div>\n",
      "</div>\n"
     ]
    }
   ],
   "source": [
    "print(soup4.prettify())"
   ]
  },
  {
   "cell_type": "code",
   "execution_count": 19,
   "id": "5e63ae9c",
   "metadata": {},
   "outputs": [
    {
     "data": {
      "text/plain": [
       "<table class=\"table table-striped\">\n",
       "<tbody>\n",
       "<tr>\n",
       "<th scope=\"row\">Equatorial Diameter:</th>\n",
       "<td>6,792 km</td>\n",
       "</tr>\n",
       "<tr>\n",
       "<th scope=\"row\">Polar Diameter:</th>\n",
       "<td>6,752 km</td>\n",
       "</tr>\n",
       "<tr>\n",
       "<th scope=\"row\">Mass:</th>\n",
       "<td>\t6.39 × 10^23 kg (0.11 Earths)</td>\n",
       "</tr>\n",
       "<tr>\n",
       "<th scope=\"row\">Moons:</th>\n",
       "<td>\t2 ( <span class=\"red\">Phobos </span> &amp; <span class=\"red\"> Deimos </span>)</td>\n",
       "</tr>\n",
       "<tr>\n",
       "<th scope=\"row\">Orbit Distance:</th>\n",
       "<td>\t227,943,824 km (1.38 AU)</td>\n",
       "</tr>\n",
       "<tr>\n",
       "<th scope=\"row\">Orbit Period:</th>\n",
       "<td>\t687 days (1.9 years)</td>\n",
       "</tr>\n",
       "<tr>\n",
       "<th scope=\"row\">Surface Temperature:</th>\n",
       "<td>\t-87 to -5 °C</td>\n",
       "</tr>\n",
       "<tr>\n",
       "<th scope=\"row\">First Record:</th>\n",
       "<td>\t2nd millennium BC</td>\n",
       "</tr>\n",
       "<tr>\n",
       "<th scope=\"row\">Recorded By:</th>\n",
       "<td>\tEgyptian astronomers</td>\n",
       "</tr>\n",
       "</tbody>\n",
       "</table>"
      ]
     },
     "execution_count": 19,
     "metadata": {},
     "output_type": "execute_result"
    }
   ],
   "source": [
    "soup4.find(\"table\", class_=\"table table-striped\")"
   ]
  },
  {
   "cell_type": "code",
   "execution_count": 20,
   "id": "336e7aed",
   "metadata": {},
   "outputs": [],
   "source": [
    "html5_string = \"\"\"\n",
    "<div class=\"collapsible results\">\n",
    "                        <div class=\"item\">\n",
    "                           <a href=\"cerberus.html\" class=\"itemLink product-item\"><img class=\"thumb\" src=\"images/39d3266553462198bd2fbc4d18fbed17_cerberus_enhanced.tif_thumb.png\" alt=\"Cerberus Hemisphere Enhanced thumbnail\"></a>\n",
    "\n",
    "                           <div class=\"description\">\n",
    "                              <a href=\"cerberus.html\" class=\"itemLink product-item\">\n",
    "\n",
    "                                 <h3>Cerberus Hemisphere Enhanced</h3>\n",
    "                              </a>\n",
    "                              <span class=\"subtitle\" style=\"float:left\">image/tiff 21 MB</span><span class=\"pubDate\" style=\"float:right\"></span><br>\n",
    "                              <p>Mosaic of the Cerberus hemisphere of Mars projected into point perspective, a view similar to that which one would see from a spacecraft. This mosaic is composed of 104 Viking Orbiter images acquired…</p>\n",
    "                           </div>\n",
    "                           <!-- end description -->\n",
    "                        </div>\n",
    "                        <div class=\"item\">\n",
    "                           <a href=\"schiaparelli.html\" class=\"itemLink product-item\"><img class=\"thumb\" src=\"images/08eac6e22c07fb1fe72223a79252de20_schiaparelli_enhanced.tif_thumb.png\" alt=\"Schiaparelli Hemisphere Enhanced thumbnail\"></a>\n",
    "                           <div class=\"description\">\n",
    "                              <a href=\"schiaparelli.html\" class=\"itemLink product-item\">\n",
    "                                 <h3>Schiaparelli Hemisphere Enhanced</h3>\n",
    "                              </a>\n",
    "                              <span class=\"subtitle\" style=\"float:left\">image/tiff 35 MB</span><span class=\"pubDate\" style=\"float:right\"></span><br>\n",
    "                              <p>Mosaic of the Schiaparelli hemisphere of Mars projected into point perspective, a view similar to that which one would see from a spacecraft. The images were acquired in 1980 during early northern…</p>\n",
    "                           </div>\n",
    "                           <!-- end description -->\n",
    "                        </div>\n",
    "                        <div class=\"item\">\n",
    "                           <a href=\"syrtis.html\" class=\"itemLink product-item\"><img class=\"thumb\" src=\"images/55a0a1e2796313fdeafb17c35925e8ac_syrtis_major_enhanced.tif_thumb.png\" alt=\"Syrtis Major Hemisphere Enhanced thumbnail\"></a>\n",
    "                           <div class=\"description\">\n",
    "                              <a href=\"syrtis.html\" class=\"itemLink product-item\">\n",
    "                                 <h3>Syrtis Major Hemisphere Enhanced</h3>\n",
    "                              </a>\n",
    "                              <span class=\"subtitle\" style=\"float:left\">image/tiff 25 MB</span><span class=\"pubDate\" style=\"float:right\"></span><br>\n",
    "                              <p>Mosaic of the Syrtis Major hemisphere of Mars projected into point perspective, a view similar to that which one would see from a spacecraft. This mosaic is composed of about 100 red and violet…</p>\n",
    "                           </div>\n",
    "                           <!-- end description -->\n",
    "                        </div>\n",
    "                        <div class=\"item\">\n",
    "                           <a href=\"valles.html\" class=\"itemLink product-item\"><img class=\"thumb\" src=\"images/4e59980c1c57f89c680c0e1ccabbeff1_valles_marineris_enhanced.tif_thumb.png\" alt=\"Valles Marineris Hemisphere Enhanced thumbnail\"></a>\n",
    "                           <div class=\"description\">\n",
    "                              <a href=\"valles.html\" class=\"itemLink product-item\">\n",
    "                                 <h3>Valles Marineris Hemisphere Enhanced</h3>\n",
    "                              </a>\n",
    "                              <span class=\"subtitle\" style=\"float:left\">image/tiff 27 MB</span><span class=\"pubDate\" style=\"float:right\"></span><br>\n",
    "                              <p>Mosaic of the Valles Marineris hemisphere of Mars projected into point perspective, a view similar to that which one would see from a spacecraft. The distance is 2500 kilometers from the surface of…</p>\n",
    "                           </div>\n",
    "                           <!-- end description -->\n",
    "                        </div>\n",
    "                     </div>\"\"\""
   ]
  },
  {
   "cell_type": "code",
   "execution_count": 21,
   "id": "83c5b1ae",
   "metadata": {},
   "outputs": [
    {
     "data": {
      "text/plain": [
       "bs4.BeautifulSoup"
      ]
     },
     "execution_count": 21,
     "metadata": {},
     "output_type": "execute_result"
    }
   ],
   "source": [
    "soup5 = bs(html5_string, 'html.parser')\n",
    "type(soup5)"
   ]
  },
  {
   "cell_type": "code",
   "execution_count": 22,
   "id": "5efa97bf",
   "metadata": {},
   "outputs": [
    {
     "name": "stdout",
     "output_type": "stream",
     "text": [
      "<div class=\"collapsible results\">\n",
      " <div class=\"item\">\n",
      "  <a class=\"itemLink product-item\" href=\"cerberus.html\">\n",
      "   <img alt=\"Cerberus Hemisphere Enhanced thumbnail\" class=\"thumb\" src=\"images/39d3266553462198bd2fbc4d18fbed17_cerberus_enhanced.tif_thumb.png\"/>\n",
      "  </a>\n",
      "  <div class=\"description\">\n",
      "   <a class=\"itemLink product-item\" href=\"cerberus.html\">\n",
      "    <h3>\n",
      "     Cerberus Hemisphere Enhanced\n",
      "    </h3>\n",
      "   </a>\n",
      "   <span class=\"subtitle\" style=\"float:left\">\n",
      "    image/tiff 21 MB\n",
      "   </span>\n",
      "   <span class=\"pubDate\" style=\"float:right\">\n",
      "   </span>\n",
      "   <br/>\n",
      "   <p>\n",
      "    Mosaic of the Cerberus hemisphere of Mars projected into point perspective, a view similar to that which one would see from a spacecraft. This mosaic is composed of 104 Viking Orbiter images acquired…\n",
      "   </p>\n",
      "  </div>\n",
      "  <!-- end description -->\n",
      " </div>\n",
      " <div class=\"item\">\n",
      "  <a class=\"itemLink product-item\" href=\"schiaparelli.html\">\n",
      "   <img alt=\"Schiaparelli Hemisphere Enhanced thumbnail\" class=\"thumb\" src=\"images/08eac6e22c07fb1fe72223a79252de20_schiaparelli_enhanced.tif_thumb.png\"/>\n",
      "  </a>\n",
      "  <div class=\"description\">\n",
      "   <a class=\"itemLink product-item\" href=\"schiaparelli.html\">\n",
      "    <h3>\n",
      "     Schiaparelli Hemisphere Enhanced\n",
      "    </h3>\n",
      "   </a>\n",
      "   <span class=\"subtitle\" style=\"float:left\">\n",
      "    image/tiff 35 MB\n",
      "   </span>\n",
      "   <span class=\"pubDate\" style=\"float:right\">\n",
      "   </span>\n",
      "   <br/>\n",
      "   <p>\n",
      "    Mosaic of the Schiaparelli hemisphere of Mars projected into point perspective, a view similar to that which one would see from a spacecraft. The images were acquired in 1980 during early northern…\n",
      "   </p>\n",
      "  </div>\n",
      "  <!-- end description -->\n",
      " </div>\n",
      " <div class=\"item\">\n",
      "  <a class=\"itemLink product-item\" href=\"syrtis.html\">\n",
      "   <img alt=\"Syrtis Major Hemisphere Enhanced thumbnail\" class=\"thumb\" src=\"images/55a0a1e2796313fdeafb17c35925e8ac_syrtis_major_enhanced.tif_thumb.png\"/>\n",
      "  </a>\n",
      "  <div class=\"description\">\n",
      "   <a class=\"itemLink product-item\" href=\"syrtis.html\">\n",
      "    <h3>\n",
      "     Syrtis Major Hemisphere Enhanced\n",
      "    </h3>\n",
      "   </a>\n",
      "   <span class=\"subtitle\" style=\"float:left\">\n",
      "    image/tiff 25 MB\n",
      "   </span>\n",
      "   <span class=\"pubDate\" style=\"float:right\">\n",
      "   </span>\n",
      "   <br/>\n",
      "   <p>\n",
      "    Mosaic of the Syrtis Major hemisphere of Mars projected into point perspective, a view similar to that which one would see from a spacecraft. This mosaic is composed of about 100 red and violet…\n",
      "   </p>\n",
      "  </div>\n",
      "  <!-- end description -->\n",
      " </div>\n",
      " <div class=\"item\">\n",
      "  <a class=\"itemLink product-item\" href=\"valles.html\">\n",
      "   <img alt=\"Valles Marineris Hemisphere Enhanced thumbnail\" class=\"thumb\" src=\"images/4e59980c1c57f89c680c0e1ccabbeff1_valles_marineris_enhanced.tif_thumb.png\"/>\n",
      "  </a>\n",
      "  <div class=\"description\">\n",
      "   <a class=\"itemLink product-item\" href=\"valles.html\">\n",
      "    <h3>\n",
      "     Valles Marineris Hemisphere Enhanced\n",
      "    </h3>\n",
      "   </a>\n",
      "   <span class=\"subtitle\" style=\"float:left\">\n",
      "    image/tiff 27 MB\n",
      "   </span>\n",
      "   <span class=\"pubDate\" style=\"float:right\">\n",
      "   </span>\n",
      "   <br/>\n",
      "   <p>\n",
      "    Mosaic of the Valles Marineris hemisphere of Mars projected into point perspective, a view similar to that which one would see from a spacecraft. The distance is 2500 kilometers from the surface of…\n",
      "   </p>\n",
      "  </div>\n",
      "  <!-- end description -->\n",
      " </div>\n",
      "</div>\n"
     ]
    }
   ],
   "source": [
    "print(soup5.prettify())"
   ]
  },
  {
   "cell_type": "code",
   "execution_count": 23,
   "id": "b0d66014",
   "metadata": {},
   "outputs": [
    {
     "data": {
      "text/plain": [
       "'Cerberus Hemisphere Enhanced'"
      ]
     },
     "execution_count": 23,
     "metadata": {},
     "output_type": "execute_result"
    }
   ],
   "source": [
    "soup5(\"h3\")[0].text"
   ]
  },
  {
   "cell_type": "code",
   "execution_count": 24,
   "id": "0231dfa1",
   "metadata": {},
   "outputs": [
    {
     "data": {
      "text/plain": [
       "'Schiaparelli Hemisphere Enhanced'"
      ]
     },
     "execution_count": 24,
     "metadata": {},
     "output_type": "execute_result"
    }
   ],
   "source": [
    "soup5(\"h3\")[1].text"
   ]
  },
  {
   "cell_type": "code",
   "execution_count": 25,
   "id": "f8104049",
   "metadata": {},
   "outputs": [
    {
     "data": {
      "text/plain": [
       "'Syrtis Major Hemisphere Enhanced'"
      ]
     },
     "execution_count": 25,
     "metadata": {},
     "output_type": "execute_result"
    }
   ],
   "source": [
    "soup5(\"h3\")[2].text"
   ]
  },
  {
   "cell_type": "code",
   "execution_count": 26,
   "id": "a1c15391",
   "metadata": {},
   "outputs": [
    {
     "data": {
      "text/plain": [
       "'Valles Marineris Hemisphere Enhanced'"
      ]
     },
     "execution_count": 26,
     "metadata": {},
     "output_type": "execute_result"
    }
   ],
   "source": [
    "soup5(\"h3\")[3].text"
   ]
  },
  {
   "cell_type": "code",
   "execution_count": 27,
   "id": "01635226",
   "metadata": {},
   "outputs": [],
   "source": [
    "html6 = \"\"\"\n",
    "<img style=\"-webkit-user-select: none; display: block; margin: auto; padding: env(safe-area-inset-top) env(safe-area-inset-right) env(safe-area-inset-bottom) env(safe-area-inset-left); cursor: zoom-in;\" src=\"https://marshemispheres.com/images/cerberus_enhanced.tif\" width=\"760\" height=\"760\">\"\"\""
   ]
  },
  {
   "cell_type": "code",
   "execution_count": 28,
   "id": "97f573d3",
   "metadata": {},
   "outputs": [
    {
     "data": {
      "text/plain": [
       "bs4.BeautifulSoup"
      ]
     },
     "execution_count": 28,
     "metadata": {},
     "output_type": "execute_result"
    }
   ],
   "source": [
    "soup6 = bs(html6, 'html.parser')\n",
    "type(soup6)"
   ]
  },
  {
   "cell_type": "code",
   "execution_count": 29,
   "id": "a7463ad3",
   "metadata": {
    "scrolled": true
   },
   "outputs": [
    {
     "name": "stdout",
     "output_type": "stream",
     "text": [
      "\n",
      "<img height=\"760\" src=\"https://marshemispheres.com/images/cerberus_enhanced.tif\" style=\"-webkit-user-select: none; display: block; margin: auto; padding: env(safe-area-inset-top) env(safe-area-inset-right) env(safe-area-inset-bottom) env(safe-area-inset-left); cursor: zoom-in;\" width=\"760\"/>\n"
     ]
    }
   ],
   "source": [
    "print(soup6)"
   ]
  },
  {
   "cell_type": "code",
   "execution_count": 30,
   "id": "2cdfa47d",
   "metadata": {},
   "outputs": [
    {
     "data": {
      "text/plain": [
       "'https://marshemispheres.com/images/cerberus_enhanced.tif'"
      ]
     },
     "execution_count": 30,
     "metadata": {},
     "output_type": "execute_result"
    }
   ],
   "source": [
    "dig = soup6.find_all(\"img\")[0][\"src\"]\n",
    "dig"
   ]
  },
  {
   "cell_type": "code",
   "execution_count": 31,
   "id": "db1bf64d",
   "metadata": {},
   "outputs": [],
   "source": [
    "html7 = \"\"\"<img style=\"-webkit-user-select: none; display: block; margin: auto; padding: env(safe-area-inset-top) env(safe-area-inset-right) env(safe-area-inset-bottom) env(safe-area-inset-left); cursor: zoom-in;\" src=\"https://marshemispheres.com/images/schiaparelli_enhanced.tif\" width=\"760\" height=\"760\">\"\"\""
   ]
  },
  {
   "cell_type": "code",
   "execution_count": 32,
   "id": "2f251608",
   "metadata": {},
   "outputs": [
    {
     "data": {
      "text/plain": [
       "bs4.BeautifulSoup"
      ]
     },
     "execution_count": 32,
     "metadata": {},
     "output_type": "execute_result"
    }
   ],
   "source": [
    "soup7 = bs(html7, 'html.parser')\n",
    "type(soup7)"
   ]
  },
  {
   "cell_type": "code",
   "execution_count": 33,
   "id": "2f40949b",
   "metadata": {},
   "outputs": [
    {
     "name": "stdout",
     "output_type": "stream",
     "text": [
      "<img height=\"760\" src=\"https://marshemispheres.com/images/schiaparelli_enhanced.tif\" style=\"-webkit-user-select: none; display: block; margin: auto; padding: env(safe-area-inset-top) env(safe-area-inset-right) env(safe-area-inset-bottom) env(safe-area-inset-left); cursor: zoom-in;\" width=\"760\"/>\n"
     ]
    }
   ],
   "source": [
    "print(soup7)"
   ]
  },
  {
   "cell_type": "code",
   "execution_count": 34,
   "id": "fbe41421",
   "metadata": {},
   "outputs": [
    {
     "data": {
      "text/plain": [
       "'https://marshemispheres.com/images/schiaparelli_enhanced.tif'"
      ]
     },
     "execution_count": 34,
     "metadata": {},
     "output_type": "execute_result"
    }
   ],
   "source": [
    "soup7.find_all(\"img\")[0][\"src\"]"
   ]
  },
  {
   "cell_type": "code",
   "execution_count": 35,
   "id": "c99e5c9c",
   "metadata": {},
   "outputs": [],
   "source": [
    "html8 = \"\"\"<img style=\"-webkit-user-select: none; display: block; margin: auto; padding: env(safe-area-inset-top) env(safe-area-inset-right) env(safe-area-inset-bottom) env(safe-area-inset-left); cursor: zoom-in;\" src=\"https://marshemispheres.com/images/syrtis_major_enhanced.tif\" width=\"760\" height=\"760\">\"\"\""
   ]
  },
  {
   "cell_type": "code",
   "execution_count": 36,
   "id": "2d260223",
   "metadata": {},
   "outputs": [
    {
     "data": {
      "text/plain": [
       "bs4.BeautifulSoup"
      ]
     },
     "execution_count": 36,
     "metadata": {},
     "output_type": "execute_result"
    }
   ],
   "source": [
    "soup8 = bs(html8, 'html.parser')\n",
    "type(soup8)"
   ]
  },
  {
   "cell_type": "code",
   "execution_count": 37,
   "id": "13ea59b9",
   "metadata": {},
   "outputs": [
    {
     "name": "stdout",
     "output_type": "stream",
     "text": [
      "<img height=\"760\" src=\"https://marshemispheres.com/images/syrtis_major_enhanced.tif\" style=\"-webkit-user-select: none; display: block; margin: auto; padding: env(safe-area-inset-top) env(safe-area-inset-right) env(safe-area-inset-bottom) env(safe-area-inset-left); cursor: zoom-in;\" width=\"760\"/>\n"
     ]
    }
   ],
   "source": [
    "print(soup8)"
   ]
  },
  {
   "cell_type": "code",
   "execution_count": 38,
   "id": "c6080c46",
   "metadata": {},
   "outputs": [
    {
     "data": {
      "text/plain": [
       "'https://marshemispheres.com/images/syrtis_major_enhanced.tif'"
      ]
     },
     "execution_count": 38,
     "metadata": {},
     "output_type": "execute_result"
    }
   ],
   "source": [
    "soup8.find_all(\"img\")[0][\"src\"]"
   ]
  },
  {
   "cell_type": "code",
   "execution_count": 39,
   "id": "e323be1b",
   "metadata": {},
   "outputs": [],
   "source": [
    "html9 = \"\"\"<img style=\"-webkit-user-select: none; display: block; margin: auto; padding: env(safe-area-inset-top) env(safe-area-inset-right) env(safe-area-inset-bottom) env(safe-area-inset-left); cursor: zoom-out;\" src=\"https://marshemispheres.com/images/valles_marineris_enhanced.tif\" width=\"4798\" height=\"4798\">\"\"\""
   ]
  },
  {
   "cell_type": "code",
   "execution_count": 40,
   "id": "daa47b1d",
   "metadata": {},
   "outputs": [
    {
     "data": {
      "text/plain": [
       "bs4.BeautifulSoup"
      ]
     },
     "execution_count": 40,
     "metadata": {},
     "output_type": "execute_result"
    }
   ],
   "source": [
    "soup9 = bs(html9, 'html.parser')\n",
    "type(soup9)"
   ]
  },
  {
   "cell_type": "code",
   "execution_count": 41,
   "id": "2eb065ff",
   "metadata": {},
   "outputs": [
    {
     "name": "stdout",
     "output_type": "stream",
     "text": [
      "<img height=\"4798\" src=\"https://marshemispheres.com/images/valles_marineris_enhanced.tif\" style=\"-webkit-user-select: none; display: block; margin: auto; padding: env(safe-area-inset-top) env(safe-area-inset-right) env(safe-area-inset-bottom) env(safe-area-inset-left); cursor: zoom-out;\" width=\"4798\"/>\n"
     ]
    }
   ],
   "source": [
    "print(soup9)"
   ]
  },
  {
   "cell_type": "code",
   "execution_count": 42,
   "id": "f40261ab",
   "metadata": {},
   "outputs": [
    {
     "data": {
      "text/plain": [
       "'https://marshemispheres.com/images/valles_marineris_enhanced.tif'"
      ]
     },
     "execution_count": 42,
     "metadata": {},
     "output_type": "execute_result"
    }
   ],
   "source": [
    "soup9.find_all(\"img\")[0][\"src\"]"
   ]
  },
  {
   "cell_type": "code",
   "execution_count": 43,
   "id": "b8df54ef",
   "metadata": {},
   "outputs": [
    {
     "data": {
      "text/plain": [
       "['Title',\n",
       " 'Cerberus Hemisphere Enhanced',\n",
       " 'Img_url',\n",
       " 'https://marshemispheres.com/images/cerberus_enhanced.tif']"
      ]
     },
     "execution_count": 43,
     "metadata": {},
     "output_type": "execute_result"
    }
   ],
   "source": [
    "a = [\"Title\",  soup5(\"h3\")[0].text, \"Img_url\", soup6.find_all(\"img\")[0][\"src\"]]\n",
    "a"
   ]
  },
  {
   "cell_type": "code",
   "execution_count": 44,
   "id": "9fa4652c",
   "metadata": {},
   "outputs": [
    {
     "data": {
      "text/plain": [
       "\"['Title' : 'Cerberus Hemisphere Enhanced' : 'Img_url' : 'https://marshemispheres.com/images/cerberus_enhanced.tif']\""
      ]
     },
     "execution_count": 44,
     "metadata": {},
     "output_type": "execute_result"
    }
   ],
   "source": [
    "b = ' :'.join(str(a).split(','))\n",
    "b"
   ]
  },
  {
   "cell_type": "code",
   "execution_count": 45,
   "id": "3e83578a",
   "metadata": {},
   "outputs": [
    {
     "data": {
      "text/plain": [
       "\"{'Title' : 'Cerberus Hemisphere Enhanced' : 'Img_url' : 'https://marshemispheres.com/images/cerberus_enhanced.tif']\""
      ]
     },
     "execution_count": 45,
     "metadata": {},
     "output_type": "execute_result"
    }
   ],
   "source": [
    "b = '{'.join(str(b).split('['))\n",
    "b"
   ]
  },
  {
   "cell_type": "code",
   "execution_count": 46,
   "id": "f15918ca",
   "metadata": {},
   "outputs": [
    {
     "data": {
      "text/plain": [
       "\"{'Title' : 'Cerberus Hemisphere Enhanced' : 'Img_url' : 'https://marshemispheres.com/images/cerberus_enhanced.tif'}\""
      ]
     },
     "execution_count": 46,
     "metadata": {},
     "output_type": "execute_result"
    }
   ],
   "source": [
    "b = '}'.join(str(b).split(']'))\n",
    "b"
   ]
  },
  {
   "cell_type": "code",
   "execution_count": 47,
   "id": "8212ced9",
   "metadata": {},
   "outputs": [
    {
     "data": {
      "text/plain": [
       "['title',\n",
       " 'Schiaparelli Hemisphere Enhanced',\n",
       " 'img_url',\n",
       " 'https://marshemispheres.com/images/schiaparelli_enhanced.tif']"
      ]
     },
     "execution_count": 47,
     "metadata": {},
     "output_type": "execute_result"
    }
   ],
   "source": [
    "c  = [\"title\",  soup5(\"h3\")[1].text, \"img_url\", soup7.find_all(\"img\")[0][\"src\"]]\n",
    "c"
   ]
  },
  {
   "cell_type": "code",
   "execution_count": 48,
   "id": "61787c0b",
   "metadata": {},
   "outputs": [
    {
     "data": {
      "text/plain": [
       "\"['title' : 'Schiaparelli Hemisphere Enhanced' : 'img_url' : 'https://marshemispheres.com/images/schiaparelli_enhanced.tif']\""
      ]
     },
     "execution_count": 48,
     "metadata": {},
     "output_type": "execute_result"
    }
   ],
   "source": [
    "d = ' :'.join(str(c).split(','))\n",
    "d"
   ]
  },
  {
   "cell_type": "code",
   "execution_count": 49,
   "id": "8886f42c",
   "metadata": {},
   "outputs": [
    {
     "data": {
      "text/plain": [
       "\"{'title' : 'Schiaparelli Hemisphere Enhanced' : 'img_url' : 'https://marshemispheres.com/images/schiaparelli_enhanced.tif']\""
      ]
     },
     "execution_count": 49,
     "metadata": {},
     "output_type": "execute_result"
    }
   ],
   "source": [
    "d = '{'.join(str(d).split('['))\n",
    "d"
   ]
  },
  {
   "cell_type": "code",
   "execution_count": 50,
   "id": "3e73b90e",
   "metadata": {},
   "outputs": [
    {
     "data": {
      "text/plain": [
       "\"{'title' : 'Schiaparelli Hemisphere Enhanced' : 'img_url' : 'https://marshemispheres.com/images/schiaparelli_enhanced.tif'}\""
      ]
     },
     "execution_count": 50,
     "metadata": {},
     "output_type": "execute_result"
    }
   ],
   "source": [
    "d = '}'.join(str(d).split(']'))\n",
    "d"
   ]
  },
  {
   "cell_type": "code",
   "execution_count": 51,
   "id": "c7019817",
   "metadata": {},
   "outputs": [
    {
     "data": {
      "text/plain": [
       "['title',\n",
       " 'Syrtis Major Hemisphere Enhanced',\n",
       " 'img_url',\n",
       " 'https://marshemispheres.com/images/syrtis_major_enhanced.tif']"
      ]
     },
     "execution_count": 51,
     "metadata": {},
     "output_type": "execute_result"
    }
   ],
   "source": [
    "e = [\"title\",  soup5(\"h3\")[2].text, \"img_url\", soup8.find_all(\"img\")[0][\"src\"]]\n",
    "e"
   ]
  },
  {
   "cell_type": "code",
   "execution_count": 52,
   "id": "fc84d1d2",
   "metadata": {},
   "outputs": [
    {
     "data": {
      "text/plain": [
       "\"['title' : 'Syrtis Major Hemisphere Enhanced' : 'img_url' : 'https://marshemispheres.com/images/syrtis_major_enhanced.tif']\""
      ]
     },
     "execution_count": 52,
     "metadata": {},
     "output_type": "execute_result"
    }
   ],
   "source": [
    "f = ' :'.join(str(e).split(','))\n",
    "f"
   ]
  },
  {
   "cell_type": "code",
   "execution_count": 53,
   "id": "b0500735",
   "metadata": {},
   "outputs": [
    {
     "data": {
      "text/plain": [
       "\"{'title' : 'Syrtis Major Hemisphere Enhanced' : 'img_url' : 'https://marshemispheres.com/images/syrtis_major_enhanced.tif']\""
      ]
     },
     "execution_count": 53,
     "metadata": {},
     "output_type": "execute_result"
    }
   ],
   "source": [
    "f = '{'.join(str(f).split('['))\n",
    "f"
   ]
  },
  {
   "cell_type": "code",
   "execution_count": 54,
   "id": "d79925f0",
   "metadata": {},
   "outputs": [
    {
     "data": {
      "text/plain": [
       "\"{'title' : 'Syrtis Major Hemisphere Enhanced' : 'img_url' : 'https://marshemispheres.com/images/syrtis_major_enhanced.tif'}\""
      ]
     },
     "execution_count": 54,
     "metadata": {},
     "output_type": "execute_result"
    }
   ],
   "source": [
    "f = '}'.join(str(f).split(']'))\n",
    "f"
   ]
  },
  {
   "cell_type": "code",
   "execution_count": 55,
   "id": "a3d17f60",
   "metadata": {},
   "outputs": [
    {
     "data": {
      "text/plain": [
       "['title',\n",
       " 'Valles Marineris Hemisphere Enhanced',\n",
       " 'img_url',\n",
       " 'https://marshemispheres.com/images/valles_marineris_enhanced.tif']"
      ]
     },
     "execution_count": 55,
     "metadata": {},
     "output_type": "execute_result"
    }
   ],
   "source": [
    "g = [\"title\",  soup5(\"h3\")[3].text, \"img_url\", soup9.find_all(\"img\")[0][\"src\"]]\n",
    "g"
   ]
  },
  {
   "cell_type": "code",
   "execution_count": 56,
   "id": "e363f00d",
   "metadata": {},
   "outputs": [
    {
     "data": {
      "text/plain": [
       "\"['title' : 'Valles Marineris Hemisphere Enhanced' : 'img_url' : 'https://marshemispheres.com/images/valles_marineris_enhanced.tif']\""
      ]
     },
     "execution_count": 56,
     "metadata": {},
     "output_type": "execute_result"
    }
   ],
   "source": [
    "h = ' :'.join(str(g).split(','))\n",
    "h"
   ]
  },
  {
   "cell_type": "code",
   "execution_count": 57,
   "id": "2bb9209a",
   "metadata": {},
   "outputs": [
    {
     "data": {
      "text/plain": [
       "\"{'title' : 'Valles Marineris Hemisphere Enhanced' : 'img_url' : 'https://marshemispheres.com/images/valles_marineris_enhanced.tif']\""
      ]
     },
     "execution_count": 57,
     "metadata": {},
     "output_type": "execute_result"
    }
   ],
   "source": [
    "h = '{'.join(str(h).split('['))\n",
    "h"
   ]
  },
  {
   "cell_type": "code",
   "execution_count": 58,
   "id": "f7afcc92",
   "metadata": {},
   "outputs": [
    {
     "data": {
      "text/plain": [
       "\"{'title' : 'Valles Marineris Hemisphere Enhanced' : 'img_url' : 'https://marshemispheres.com/images/valles_marineris_enhanced.tif'}\""
      ]
     },
     "execution_count": 58,
     "metadata": {},
     "output_type": "execute_result"
    }
   ],
   "source": [
    "h = '}'.join(str(h).split(']'))\n",
    "h"
   ]
  },
  {
   "cell_type": "code",
   "execution_count": 59,
   "id": "59018829",
   "metadata": {},
   "outputs": [],
   "source": [
    "df = []\n",
    "df.extend([b, d, f, h])"
   ]
  },
  {
   "cell_type": "code",
   "execution_count": 60,
   "id": "400e461f",
   "metadata": {},
   "outputs": [
    {
     "data": {
      "text/plain": [
       "[\"{'Title' : 'Cerberus Hemisphere Enhanced' : 'Img_url' : 'https://marshemispheres.com/images/cerberus_enhanced.tif'}\",\n",
       " \"{'title' : 'Schiaparelli Hemisphere Enhanced' : 'img_url' : 'https://marshemispheres.com/images/schiaparelli_enhanced.tif'}\",\n",
       " \"{'title' : 'Syrtis Major Hemisphere Enhanced' : 'img_url' : 'https://marshemispheres.com/images/syrtis_major_enhanced.tif'}\",\n",
       " \"{'title' : 'Valles Marineris Hemisphere Enhanced' : 'img_url' : 'https://marshemispheres.com/images/valles_marineris_enhanced.tif'}\"]"
      ]
     },
     "execution_count": 60,
     "metadata": {},
     "output_type": "execute_result"
    }
   ],
   "source": [
    "df"
   ]
  },
  {
   "cell_type": "code",
   "execution_count": 61,
   "id": "a511f970",
   "metadata": {},
   "outputs": [
    {
     "name": "stdout",
     "output_type": "stream",
     "text": [
      "[{'Title' : 'Cerberus Hemisphere Enhanced' : 'Img_url' : 'https://marshemispheres.com/images/cerberus_enhanced.tif'}, {'title' : 'Schiaparelli Hemisphere Enhanced' : 'img_url' : 'https://marshemispheres.com/images/schiaparelli_enhanced.tif'}, {'title' : 'Syrtis Major Hemisphere Enhanced' : 'img_url' : 'https://marshemispheres.com/images/syrtis_major_enhanced.tif'}, {'title' : 'Valles Marineris Hemisphere Enhanced' : 'img_url' : 'https://marshemispheres.com/images/valles_marineris_enhanced.tif'}]\n"
     ]
    }
   ],
   "source": [
    "df = ''.join(str(df).split('\"'))\n",
    "print(df)\n"
   ]
  },
  {
   "cell_type": "code",
   "execution_count": 62,
   "id": "7875114a",
   "metadata": {},
   "outputs": [
    {
     "name": "stdout",
     "output_type": "stream",
     "text": [
      "[{'Title' : 'Cerberus Hemisphere Enhanced' : 'Img_url' : 'https://marshemispheres.com/images/cerberus_enhanced.tif'}\n",
      " {'title' : 'Schiaparelli Hemisphere Enhanced' : 'img_url' : 'https://marshemispheres.com/images/schiaparelli_enhanced.tif'}\n",
      " {'title' : 'Syrtis Major Hemisphere Enhanced' : 'img_url' : 'https://marshemispheres.com/images/syrtis_major_enhanced.tif'}\n",
      " {'title' : 'Valles Marineris Hemisphere Enhanced' : 'img_url' : 'https://marshemispheres.com/images/valles_marineris_enhanced.tif'}]\n"
     ]
    }
   ],
   "source": [
    "df = '\\n'.join(str(df).split(','))\n",
    "print(df)"
   ]
  },
  {
   "cell_type": "code",
   "execution_count": 63,
   "id": "058e8c31",
   "metadata": {},
   "outputs": [
    {
     "name": "stdout",
     "output_type": "stream",
     "text": [
      "hemisphere_image_urls = [{'Title' : 'Cerberus Hemisphere Enhanced' : 'Img_url' : 'https://marshemispheres.com/images/cerberus_enhanced.tif'}\n",
      " {'title' : 'Schiaparelli Hemisphere Enhanced' : 'img_url' : 'https://marshemispheres.com/images/schiaparelli_enhanced.tif'}\n",
      " {'title' : 'Syrtis Major Hemisphere Enhanced' : 'img_url' : 'https://marshemispheres.com/images/syrtis_major_enhanced.tif'}\n",
      " {'title' : 'Valles Marineris Hemisphere Enhanced' : 'img_url' : 'https://marshemispheres.com/images/valles_marineris_enhanced.tif'}]\n"
     ]
    }
   ],
   "source": [
    "print(\"hemisphere_image_urls = \" + df)"
   ]
  }
 ],
 "metadata": {
  "kernelspec": {
   "display_name": "Python 3 (ipykernel)",
   "language": "python",
   "name": "python3"
  },
  "language_info": {
   "codemirror_mode": {
    "name": "ipython",
    "version": 3
   },
   "file_extension": ".py",
   "mimetype": "text/x-python",
   "name": "python",
   "nbconvert_exporter": "python",
   "pygments_lexer": "ipython3",
   "version": "3.9.7"
  }
 },
 "nbformat": 4,
 "nbformat_minor": 5
}
